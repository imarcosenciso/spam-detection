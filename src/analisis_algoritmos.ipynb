{
 "cells": [
  {
   "cell_type": "markdown",
   "metadata": {},
   "source": [
    "# Creación y evaluación del modelo."
   ]
  },
  {
   "cell_type": "code",
   "execution_count": 1,
   "metadata": {},
   "outputs": [],
   "source": [
    "# Imports basicos:\n",
    "import pandas as pd\n",
    "import numpy as np\n",
    "import os\n",
    "\n",
    "# Para leer los mensajes vectorizados.\n",
    "from scipy import sparse\n",
    "\n",
    "# Modelo \"Multinomial Naive Bayes\"\n",
    "from sklearn.naive_bayes import MultinomialNB\n",
    "# guardar y leer modelo\n",
    "import joblib\n",
    "\n",
    "# Metricas, evaluación de modelos.\n",
    "from sklearn import metrics\n",
    "from sklearn.metrics import ConfusionMatrixDisplay"
   ]
  },
  {
   "cell_type": "code",
   "execution_count": 2,
   "metadata": {},
   "outputs": [],
   "source": [
    "# Antes de nada, leemos los mensajes vectorizados en el preprocessing.\n",
    "x_train_tfidf = sparse.load_npz(\"../Data/dataset/vectorizado/tfidf_train.npz\")\n",
    "\n",
    "x_test_tfidf = sparse.load_npz(\"../Data/dataset/vectorizado/tfidf_test.npz\")\n",
    "\n",
    "y_train = pd.read_pickle(\"../Data/dataset/labels/y_train\")\n",
    "\n",
    "y_test = pd.read_pickle(\"../Data/dataset/labels/y_test\")\n",
    "\n",
    "x_test = pd.read_pickle(\"../Data/dataset/test/x_test\")"
   ]
  },
  {
   "cell_type": "markdown",
   "metadata": {},
   "source": [
    "## 1. Multinomial Naive Bayes "
   ]
  },
  {
   "cell_type": "code",
   "execution_count": 3,
   "metadata": {},
   "outputs": [
    {
     "data": {
      "text/plain": [
       "MultinomialNB()"
      ]
     },
     "execution_count": 3,
     "metadata": {},
     "output_type": "execute_result"
    }
   ],
   "source": [
    "nb = MultinomialNB()\n",
    "\n",
    "\n",
    "nb.fit(x_train_tfidf, y_train)"
   ]
  },
  {
   "cell_type": "code",
   "execution_count": 4,
   "metadata": {},
   "outputs": [],
   "source": [
    "y_predicciones = nb.predict(x_test_tfidf)"
   ]
  },
  {
   "cell_type": "code",
   "execution_count": 5,
   "metadata": {},
   "outputs": [
    {
     "data": {
      "text/plain": [
       "0.9612347451543432"
      ]
     },
     "execution_count": 5,
     "metadata": {},
     "output_type": "execute_result"
    }
   ],
   "source": [
    "metrics.accuracy_score(y_test, y_predicciones)"
   ]
  },
  {
   "cell_type": "markdown",
   "metadata": {},
   "source": [
    "Para evaluar un modelo, no solo hay que tener en cuenta la precisión del mismo. Es importante observar los falsos positivos y negativos.\n",
    "La confusion matrix evalúa los resultados de la siguiente forma:\n",
    "\n",
    "| negativos acertados \t| falsos negativos \t    |\n",
    "|:-------------------:\t|:--------------------:\t|\n",
    "| falsos positivos   \t| positivos acertados \t|\n",
    "\n",
    "En nuestro caso, es importante ver que el algoritmo favorece los falsos negativos. Esto es un error. Para la ciberseguridad, es mejor que determinar que un mensaje es spam cuando no lo es, que no detectar el spam en absoluto.\n",
    "\n",
    "Esto puede estar causado porque el dataset no está balanceado y tiene mucho más spam que no-spam, de ahí que detecte perfectamente los mensajes reales y no haga tan buen trabajo con los de spam.\n",
    "\n",
    "[IÑIGO: la parte de los metadatos no está añadida, pero practicamante resolvería el problema al añadir información clave. No me da tiempo a meterlo]"
   ]
  },
  {
   "cell_type": "code",
   "execution_count": 6,
   "metadata": {},
   "outputs": [
    {
     "data": {
      "text/plain": [
       "array([[1195,    2],\n",
       "       [  52,  144]], dtype=int64)"
      ]
     },
     "execution_count": 6,
     "metadata": {},
     "output_type": "execute_result"
    }
   ],
   "source": [
    "conf_matrix = metrics.confusion_matrix(y_test, y_predicciones)\n",
    "\n",
    "conf_matrix"
   ]
  },
  {
   "cell_type": "markdown",
   "metadata": {},
   "source": [
    "Vamos a ver los falsos negativos."
   ]
  },
  {
   "cell_type": "code",
   "execution_count": 7,
   "metadata": {},
   "outputs": [],
   "source": [
    "falsos_negativos = x_test[y_predicciones < y_test]"
   ]
  },
  {
   "cell_type": "code",
   "execution_count": 8,
   "metadata": {},
   "outputs": [
    {
     "data": {
      "text/html": [
       "<div>\n",
       "<style scoped>\n",
       "    .dataframe tbody tr th:only-of-type {\n",
       "        vertical-align: middle;\n",
       "    }\n",
       "\n",
       "    .dataframe tbody tr th {\n",
       "        vertical-align: top;\n",
       "    }\n",
       "\n",
       "    .dataframe thead th {\n",
       "        text-align: right;\n",
       "    }\n",
       "</style>\n",
       "<table border=\"1\" class=\"dataframe\">\n",
       "  <thead>\n",
       "    <tr style=\"text-align: right;\">\n",
       "      <th></th>\n",
       "      <th>len_mensajes</th>\n",
       "      <th>tiene_link</th>\n",
       "      <th>tiene_telefono</th>\n",
       "      <th>mensaje_limpio</th>\n",
       "      <th>spam_score</th>\n",
       "    </tr>\n",
       "  </thead>\n",
       "  <tbody>\n",
       "    <tr>\n",
       "      <th>4311</th>\n",
       "      <td>0.145374</td>\n",
       "      <td>0</td>\n",
       "      <td>1</td>\n",
       "      <td>someon know ask date servic  contact cant gues...</td>\n",
       "      <td>0.307692</td>\n",
       "    </tr>\n",
       "    <tr>\n",
       "      <th>1269</th>\n",
       "      <td>0.158590</td>\n",
       "      <td>0</td>\n",
       "      <td>1</td>\n",
       "      <td>get  phone wanna chat  set meet call  cum  luv...</td>\n",
       "      <td>0.307692</td>\n",
       "    </tr>\n",
       "    <tr>\n",
       "      <th>1048</th>\n",
       "      <td>0.112335</td>\n",
       "      <td>0</td>\n",
       "      <td>0</td>\n",
       "      <td>flirt txt girl bloke  name  age eg girl zoe   ...</td>\n",
       "      <td>0.230769</td>\n",
       "    </tr>\n",
       "    <tr>\n",
       "      <th>5214</th>\n",
       "      <td>0.147577</td>\n",
       "      <td>0</td>\n",
       "      <td>1</td>\n",
       "      <td>natalja  invit friend repli   see  stop send s...</td>\n",
       "      <td>0.307692</td>\n",
       "    </tr>\n",
       "    <tr>\n",
       "      <th>1469</th>\n",
       "      <td>0.174009</td>\n",
       "      <td>0</td>\n",
       "      <td>1</td>\n",
       "      <td>hi luci hubbi meetin day fri  alon hotel fanci...</td>\n",
       "      <td>0.000000</td>\n",
       "    </tr>\n",
       "  </tbody>\n",
       "</table>\n",
       "</div>"
      ],
      "text/plain": [
       "      len_mensajes  tiene_link  tiene_telefono  \\\n",
       "4311      0.145374           0               1   \n",
       "1269      0.158590           0               1   \n",
       "1048      0.112335           0               0   \n",
       "5214      0.147577           0               1   \n",
       "1469      0.174009           0               1   \n",
       "\n",
       "                                         mensaje_limpio  spam_score  \n",
       "4311  someon know ask date servic  contact cant gues...    0.307692  \n",
       "1269  get  phone wanna chat  set meet call  cum  luv...    0.307692  \n",
       "1048  flirt txt girl bloke  name  age eg girl zoe   ...    0.230769  \n",
       "5214  natalja  invit friend repli   see  stop send s...    0.307692  \n",
       "1469  hi luci hubbi meetin day fri  alon hotel fanci...    0.000000  "
      ]
     },
     "execution_count": 8,
     "metadata": {},
     "output_type": "execute_result"
    }
   ],
   "source": [
    "falsos_negativos.head(5)"
   ]
  },
  {
   "cell_type": "code",
   "execution_count": 9,
   "metadata": {},
   "outputs": [
    {
     "data": {
      "text/plain": [
       "<sklearn.metrics._plot.confusion_matrix.ConfusionMatrixDisplay at 0x2d65cb97b50>"
      ]
     },
     "execution_count": 9,
     "metadata": {},
     "output_type": "execute_result"
    },
    {
     "data": {
      "image/png": "[encoded data removed]",
      "text/plain": [
       "<Figure size 432x288 with 2 Axes>"
      ]
     },
     "metadata": {
      "needs_background": "light"
     },
     "output_type": "display_data"
    }
   ],
   "source": [
    "ConfusionMatrixDisplay(\n",
    "    conf_matrix,\n",
    "    display_labels=['no spam', 'spam']\n",
    "    ).plot()"
   ]
  },
  {
   "cell_type": "markdown",
   "metadata": {},
   "source": [
    "Guardamos el modelo."
   ]
  },
  {
   "cell_type": "code",
   "execution_count": 10,
   "metadata": {},
   "outputs": [
    {
     "data": {
      "text/plain": [
       "['../Data/dataset/modelos\\\\MultinomialNB']"
      ]
     },
     "execution_count": 10,
     "metadata": {},
     "output_type": "execute_result"
    }
   ],
   "source": [
    "path = '../Data/dataset/modelos'\n",
    "\n",
    "if not os.path.exists(path):\n",
    "    os.makedirs(path)\n",
    "\n",
    "joblib.dump(nb, os.path.join(path,\"MultinomialNB\"))"
   ]
  }
 ],
 "metadata": {
  "interpreter": {
   "hash": "916dbcbb3f70747c44a77c7bcd40155683ae19c65e1c03b4aa3499c5328201f1"
  },
  "kernelspec": {
   "display_name": "Python 3.9.7 64-bit",
   "language": "python",
   "name": "python3"
  },
  "language_info": {
   "codemirror_mode": {
    "name": "ipython",
    "version": 3
   },
   "file_extension": ".py",
   "mimetype": "text/x-python",
   "name": "python",
   "nbconvert_exporter": "python",
   "pygments_lexer": "ipython3",
   "version": "3.8.5"
  },
  "orig_nbformat": 4
 },
 "nbformat": 4,
 "nbformat_minor": 2
}
