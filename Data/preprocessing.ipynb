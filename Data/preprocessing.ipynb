{
 "cells": [
  {
   "cell_type": "markdown",
   "metadata": {},
   "source": [
    "# 1. Exploración de datos"
   ]
  },
  {
   "cell_type": "code",
   "execution_count": 1,
   "metadata": {},
   "outputs": [
    {
     "name": "stderr",
     "output_type": "stream",
     "text": [
      "[nltk_data] Downloading package stopwords to\n",
      "[nltk_data]     C:\\Users\\Iñigo\\AppData\\Roaming\\nltk_data...\n",
      "[nltk_data]   Package stopwords is already up-to-date!\n"
     ]
    }
   ],
   "source": [
    "# Import librerías para todo el preprocesamiento.\n",
    "\n",
    "# básicas\n",
    "import pandas as pd\n",
    "import numpy as np\n",
    "import matplotlib.pyplot as plt\n",
    "import seaborn as sns\n",
    "from collections import Counter\n",
    "import json\n",
    "import os\n",
    "import joblib\n",
    "\n",
    "\n",
    "# RegEx y strings\n",
    "import re\n",
    "import string\n",
    "import unidecode\n",
    "\n",
    "# Stopwords\n",
    "import nltk\n",
    "nltk.download('stopwords')          # Hay que descargarlo.\n",
    "from nltk.corpus import stopwords\n",
    "\n",
    "# Stemming\n",
    "from nltk.stem import SnowballStemmer\n",
    "\n",
    "# Normalización\n",
    "from sklearn.preprocessing import MinMaxScaler\n",
    "\n",
    "# Train and test division\n",
    "from sklearn.model_selection import train_test_split\n",
    "\n",
    "# Vectorización de strings\n",
    "# 1. TF-IDF\n",
    "from sklearn.feature_extraction.text import TfidfVectorizer\n",
    "from scipy import sparse\n",
    "\n",
    "# Word2Vec w/ skip-gram\n",
    "from gensim import models\n",
    "\n",
    "\n",
    "# GloVe\n",
    "\n",
    "# Configuración de gráficos\n",
    "%matplotlib inline\n",
    "sns.set_style(\"whitegrid\")\n",
    "plt.style.use(\"fivethirtyeight\")"
   ]
  },
  {
   "cell_type": "code",
   "execution_count": 2,
   "metadata": {},
   "outputs": [],
   "source": [
    "# Leemos el dataset.\n",
    "df = pd.read_csv(\n",
    "    'dataset/SMSSpamCollection',\n",
    "    sep=\"\\t\",\n",
    "    names=['tipo', 'mensaje']       # Asigna nombres a las columnas\n",
    ")"
   ]
  },
  {
   "cell_type": "code",
   "execution_count": 3,
   "metadata": {},
   "outputs": [
    {
     "data": {
      "text/html": [
       "<div>\n",
       "<style scoped>\n",
       "    .dataframe tbody tr th:only-of-type {\n",
       "        vertical-align: middle;\n",
       "    }\n",
       "\n",
       "    .dataframe tbody tr th {\n",
       "        vertical-align: top;\n",
       "    }\n",
       "\n",
       "    .dataframe thead th {\n",
       "        text-align: right;\n",
       "    }\n",
       "</style>\n",
       "<table border=\"1\" class=\"dataframe\">\n",
       "  <thead>\n",
       "    <tr style=\"text-align: right;\">\n",
       "      <th></th>\n",
       "      <th>tipo</th>\n",
       "      <th>mensaje</th>\n",
       "    </tr>\n",
       "  </thead>\n",
       "  <tbody>\n",
       "    <tr>\n",
       "      <th>0</th>\n",
       "      <td>ham</td>\n",
       "      <td>Go until jurong point, crazy.. Available only ...</td>\n",
       "    </tr>\n",
       "  </tbody>\n",
       "</table>\n",
       "</div>"
      ],
      "text/plain": [
       "  tipo                                            mensaje\n",
       "0  ham  Go until jurong point, crazy.. Available only ..."
      ]
     },
     "execution_count": 3,
     "metadata": {},
     "output_type": "execute_result"
    }
   ],
   "source": [
    "df.head(1)"
   ]
  },
  {
   "cell_type": "markdown",
   "metadata": {},
   "source": [
    "# 1.1 Exploración inicial"
   ]
  },
  {
   "cell_type": "code",
   "execution_count": 4,
   "metadata": {},
   "outputs": [
    {
     "data": {
      "text/html": [
       "<div>\n",
       "<style scoped>\n",
       "    .dataframe tbody tr th:only-of-type {\n",
       "        vertical-align: middle;\n",
       "    }\n",
       "\n",
       "    .dataframe tbody tr th {\n",
       "        vertical-align: top;\n",
       "    }\n",
       "\n",
       "    .dataframe thead tr th {\n",
       "        text-align: left;\n",
       "    }\n",
       "\n",
       "    .dataframe thead tr:last-of-type th {\n",
       "        text-align: right;\n",
       "    }\n",
       "</style>\n",
       "<table border=\"1\" class=\"dataframe\">\n",
       "  <thead>\n",
       "    <tr>\n",
       "      <th></th>\n",
       "      <th colspan=\"4\" halign=\"left\">mensaje</th>\n",
       "    </tr>\n",
       "    <tr>\n",
       "      <th></th>\n",
       "      <th>count</th>\n",
       "      <th>unique</th>\n",
       "      <th>top</th>\n",
       "      <th>freq</th>\n",
       "    </tr>\n",
       "    <tr>\n",
       "      <th>tipo</th>\n",
       "      <th></th>\n",
       "      <th></th>\n",
       "      <th></th>\n",
       "      <th></th>\n",
       "    </tr>\n",
       "  </thead>\n",
       "  <tbody>\n",
       "    <tr>\n",
       "      <th>ham</th>\n",
       "      <td>4825</td>\n",
       "      <td>4516</td>\n",
       "      <td>Sorry, I'll call later</td>\n",
       "      <td>30</td>\n",
       "    </tr>\n",
       "    <tr>\n",
       "      <th>spam</th>\n",
       "      <td>747</td>\n",
       "      <td>653</td>\n",
       "      <td>Please call our customer service representativ...</td>\n",
       "      <td>4</td>\n",
       "    </tr>\n",
       "  </tbody>\n",
       "</table>\n",
       "</div>"
      ],
      "text/plain": [
       "     mensaje                                                               \n",
       "       count unique                                                top freq\n",
       "tipo                                                                       \n",
       "ham     4825   4516                             Sorry, I'll call later   30\n",
       "spam     747    653  Please call our customer service representativ...    4"
      ]
     },
     "execution_count": 4,
     "metadata": {},
     "output_type": "execute_result"
    }
   ],
   "source": [
    "df.groupby('tipo').describe()"
   ]
  },
  {
   "cell_type": "markdown",
   "metadata": {},
   "source": [
    "Dado que tenemos muy pocas dimensiones, vamos a extraer la mayor cantidad de datos posible.\n",
    "Para empezar, asignamos un valor binario a la columna tipo (0 para mensaje normal, 1 para spam). Dado que no tenemos ningún tipo de información respecto a los mensajes, podríamos contar la longitud de los mensajes, así como tratar de identificar palabras clave asociados a los distintos tipos de mensajes.\n",
    "\n",
    "Por otro lado, el dataset no está balanceado. Existen muchos más mensajes reales que de spam. Esto es muy común en los problemas de detección de transacciones fraudulentas y spam, dado que los fraudulentos son una minoría ínfima en comparación. La solución obvia sería conseguir más mensajes de spam; como esto no es sencillo, podríamos hacer resampling para balancear el dataset. "
   ]
  },
  {
   "cell_type": "code",
   "execution_count": 5,
   "metadata": {},
   "outputs": [],
   "source": [
    "# Longitud de los mensajes.\n",
    "df['len_mensajes'] = df['mensaje'].apply(len)"
   ]
  },
  {
   "cell_type": "code",
   "execution_count": 6,
   "metadata": {},
   "outputs": [
    {
     "data": {
      "text/plain": [
       "Text(0.5, 0, 'Longitud de los mensajes por tipo de mensaje')"
      ]
     },
     "execution_count": 6,
     "metadata": {},
     "output_type": "execute_result"
    },
    {
     "data": {
      "image/png": "[encoded data removed]",
      "text/plain": [
       "<Figure size 864x576 with 1 Axes>"
      ]
     },
     "metadata": {},
     "output_type": "display_data"
    }
   ],
   "source": [
    "plt.figure(figsize=(12, 8))\n",
    "\n",
    "df[df.tipo=='ham']['len_mensajes'].plot(\n",
    "    bins=35, kind='hist', color='blue',\n",
    "    label='Mensajes reales', alpha=0.7\n",
    "    )\n",
    "\n",
    "df[df.tipo=='spam']['len_mensajes'].plot(\n",
    "    kind='hist', color='red',\n",
    "    label='Mensajes de spam', alpha=0.7\n",
    "    )\n",
    "\n",
    "plt.legend()\n",
    "plt.ylabel('Frecuencia')\n",
    "plt.xlabel('Longitud de los mensajes por tipo de mensaje')\n"
   ]
  },
  {
   "cell_type": "markdown",
   "metadata": {},
   "source": [
    "Podemos observar como los mensajes de spam tienen por lo general más caracteres que los reales. Por supuesto hay excepciones, pero la tendencia está clara."
   ]
  },
  {
   "cell_type": "code",
   "execution_count": 7,
   "metadata": {},
   "outputs": [
    {
     "data": {
      "text/html": [
       "<div>\n",
       "<style scoped>\n",
       "    .dataframe tbody tr th:only-of-type {\n",
       "        vertical-align: middle;\n",
       "    }\n",
       "\n",
       "    .dataframe tbody tr th {\n",
       "        vertical-align: top;\n",
       "    }\n",
       "\n",
       "    .dataframe thead th {\n",
       "        text-align: right;\n",
       "    }\n",
       "</style>\n",
       "<table border=\"1\" class=\"dataframe\">\n",
       "  <thead>\n",
       "    <tr style=\"text-align: right;\">\n",
       "      <th></th>\n",
       "      <th>len_mensajes</th>\n",
       "    </tr>\n",
       "  </thead>\n",
       "  <tbody>\n",
       "    <tr>\n",
       "      <th>count</th>\n",
       "      <td>4825.000000</td>\n",
       "    </tr>\n",
       "    <tr>\n",
       "      <th>mean</th>\n",
       "      <td>71.482902</td>\n",
       "    </tr>\n",
       "    <tr>\n",
       "      <th>std</th>\n",
       "      <td>58.442635</td>\n",
       "    </tr>\n",
       "    <tr>\n",
       "      <th>min</th>\n",
       "      <td>2.000000</td>\n",
       "    </tr>\n",
       "    <tr>\n",
       "      <th>25%</th>\n",
       "      <td>33.000000</td>\n",
       "    </tr>\n",
       "    <tr>\n",
       "      <th>50%</th>\n",
       "      <td>52.000000</td>\n",
       "    </tr>\n",
       "    <tr>\n",
       "      <th>75%</th>\n",
       "      <td>93.000000</td>\n",
       "    </tr>\n",
       "    <tr>\n",
       "      <th>max</th>\n",
       "      <td>910.000000</td>\n",
       "    </tr>\n",
       "  </tbody>\n",
       "</table>\n",
       "</div>"
      ],
      "text/plain": [
       "       len_mensajes\n",
       "count   4825.000000\n",
       "mean      71.482902\n",
       "std       58.442635\n",
       "min        2.000000\n",
       "25%       33.000000\n",
       "50%       52.000000\n",
       "75%       93.000000\n",
       "max      910.000000"
      ]
     },
     "execution_count": 7,
     "metadata": {},
     "output_type": "execute_result"
    }
   ],
   "source": [
    "df[df['tipo']=='ham'].describe()"
   ]
  },
  {
   "cell_type": "code",
   "execution_count": 8,
   "metadata": {},
   "outputs": [
    {
     "data": {
      "text/html": [
       "<div>\n",
       "<style scoped>\n",
       "    .dataframe tbody tr th:only-of-type {\n",
       "        vertical-align: middle;\n",
       "    }\n",
       "\n",
       "    .dataframe tbody tr th {\n",
       "        vertical-align: top;\n",
       "    }\n",
       "\n",
       "    .dataframe thead th {\n",
       "        text-align: right;\n",
       "    }\n",
       "</style>\n",
       "<table border=\"1\" class=\"dataframe\">\n",
       "  <thead>\n",
       "    <tr style=\"text-align: right;\">\n",
       "      <th></th>\n",
       "      <th>len_mensajes</th>\n",
       "    </tr>\n",
       "  </thead>\n",
       "  <tbody>\n",
       "    <tr>\n",
       "      <th>count</th>\n",
       "      <td>747.000000</td>\n",
       "    </tr>\n",
       "    <tr>\n",
       "      <th>mean</th>\n",
       "      <td>138.670683</td>\n",
       "    </tr>\n",
       "    <tr>\n",
       "      <th>std</th>\n",
       "      <td>28.873603</td>\n",
       "    </tr>\n",
       "    <tr>\n",
       "      <th>min</th>\n",
       "      <td>13.000000</td>\n",
       "    </tr>\n",
       "    <tr>\n",
       "      <th>25%</th>\n",
       "      <td>133.000000</td>\n",
       "    </tr>\n",
       "    <tr>\n",
       "      <th>50%</th>\n",
       "      <td>149.000000</td>\n",
       "    </tr>\n",
       "    <tr>\n",
       "      <th>75%</th>\n",
       "      <td>157.000000</td>\n",
       "    </tr>\n",
       "    <tr>\n",
       "      <th>max</th>\n",
       "      <td>223.000000</td>\n",
       "    </tr>\n",
       "  </tbody>\n",
       "</table>\n",
       "</div>"
      ],
      "text/plain": [
       "       len_mensajes\n",
       "count    747.000000\n",
       "mean     138.670683\n",
       "std       28.873603\n",
       "min       13.000000\n",
       "25%      133.000000\n",
       "50%      149.000000\n",
       "75%      157.000000\n",
       "max      223.000000"
      ]
     },
     "execution_count": 8,
     "metadata": {},
     "output_type": "execute_result"
    }
   ],
   "source": [
    "df[df['tipo']=='spam'].describe()"
   ]
  },
  {
   "cell_type": "markdown",
   "metadata": {},
   "source": [
    "# 1.2 Extracción de meta datos\n",
    "\n",
    "Vamos a tratar de extraer la máxima información posible escondida en los mensajes. Esta meta-información será utizada posteriormente en otro modelo de clasificación."
   ]
  },
  {
   "cell_type": "markdown",
   "metadata": {},
   "source": [
    "### 1.2.1 Links"
   ]
  },
  {
   "cell_type": "code",
   "execution_count": 9,
   "metadata": {},
   "outputs": [],
   "source": [
    "# Tratamos de ver si algún mensaje tiene links.\n",
    "\n",
    "def tiene_link(x):\n",
    "    \"\"\" Evalua un string con regex y devuelve true si contiene un link.\n",
    "    Regex obtenida de: http://urlregex.com/\n",
    "    \"\"\"\n",
    "    expr = re.compile(r'http[s]?://(?:[a-zA-Z]|[0-9]|[$-_@.&+]|[!*\\(\\),]|(?:%[0-9a-fA-F][0-9a-fA-F]))+')\n",
    "    \n",
    "    return expr.search(x) != None # True si tiene links."
   ]
  },
  {
   "cell_type": "code",
   "execution_count": 10,
   "metadata": {},
   "outputs": [],
   "source": [
    "df['tiene_link'] = df['mensaje'].apply(tiene_link)"
   ]
  },
  {
   "cell_type": "code",
   "execution_count": 11,
   "metadata": {},
   "outputs": [
    {
     "data": {
      "text/html": [
       "<div>\n",
       "<style scoped>\n",
       "    .dataframe tbody tr th:only-of-type {\n",
       "        vertical-align: middle;\n",
       "    }\n",
       "\n",
       "    .dataframe tbody tr th {\n",
       "        vertical-align: top;\n",
       "    }\n",
       "\n",
       "    .dataframe thead tr th {\n",
       "        text-align: left;\n",
       "    }\n",
       "\n",
       "    .dataframe thead tr:last-of-type th {\n",
       "        text-align: right;\n",
       "    }\n",
       "</style>\n",
       "<table border=\"1\" class=\"dataframe\">\n",
       "  <thead>\n",
       "    <tr>\n",
       "      <th></th>\n",
       "      <th colspan=\"8\" halign=\"left\">len_mensajes</th>\n",
       "    </tr>\n",
       "    <tr>\n",
       "      <th></th>\n",
       "      <th>count</th>\n",
       "      <th>mean</th>\n",
       "      <th>std</th>\n",
       "      <th>min</th>\n",
       "      <th>25%</th>\n",
       "      <th>50%</th>\n",
       "      <th>75%</th>\n",
       "      <th>max</th>\n",
       "    </tr>\n",
       "    <tr>\n",
       "      <th>tipo</th>\n",
       "      <th></th>\n",
       "      <th></th>\n",
       "      <th></th>\n",
       "      <th></th>\n",
       "      <th></th>\n",
       "      <th></th>\n",
       "      <th></th>\n",
       "      <th></th>\n",
       "    </tr>\n",
       "  </thead>\n",
       "  <tbody>\n",
       "    <tr>\n",
       "      <th>spam</th>\n",
       "      <td>19.0</td>\n",
       "      <td>133.0</td>\n",
       "      <td>25.309199</td>\n",
       "      <td>89.0</td>\n",
       "      <td>110.5</td>\n",
       "      <td>143.0</td>\n",
       "      <td>152.5</td>\n",
       "      <td>163.0</td>\n",
       "    </tr>\n",
       "  </tbody>\n",
       "</table>\n",
       "</div>"
      ],
      "text/plain": [
       "     len_mensajes                                                    \n",
       "            count   mean        std   min    25%    50%    75%    max\n",
       "tipo                                                                 \n",
       "spam         19.0  133.0  25.309199  89.0  110.5  143.0  152.5  163.0"
      ]
     },
     "execution_count": 11,
     "metadata": {},
     "output_type": "execute_result"
    }
   ],
   "source": [
    "df[df['tiene_link'] == True].groupby('tipo').describe()"
   ]
  },
  {
   "cell_type": "markdown",
   "metadata": {},
   "source": [
    "El 100% de los links son compartidos por mensajes fraudulentos. Esto no significa que todos los mensajes que tengan links sean malignos, pero si vemos un link deberíamos sospechar, y mucho."
   ]
  },
  {
   "cell_type": "markdown",
   "metadata": {},
   "source": [
    "### 1.2.2 Números de teléfono"
   ]
  },
  {
   "cell_type": "code",
   "execution_count": 12,
   "metadata": {},
   "outputs": [],
   "source": [
    "def tiene_telefono(x):\n",
    "    \"\"\" Evalua un string con regex y devuelve true si contiene un número de teléfono.\n",
    "    Regex obtenida de: https://scripteverything.com/check-phone-numbers-using-regex-in-python-examples/\n",
    "    \"\"\"\n",
    "    expr1 = re.compile(r'(?:\\+\\d{2})?\\d{3,4}\\D?\\d{3}\\D?\\d{3}')      # Para teléfonos móviles\n",
    "    expr2 = re.compile(r'(?:\\+?\\(?\\d{2,3}?\\)?\\D?)?\\d{4}\\D?\\d{4}')   # Para fijos\n",
    "    \n",
    "    return (expr1.search(x) != None \n",
    "        or expr2.search(x) != None)\n"
   ]
  },
  {
   "cell_type": "code",
   "execution_count": 13,
   "metadata": {},
   "outputs": [],
   "source": [
    "df['tiene_telefono'] = df['mensaje'].apply(tiene_telefono)"
   ]
  },
  {
   "cell_type": "code",
   "execution_count": 14,
   "metadata": {},
   "outputs": [
    {
     "data": {
      "text/plain": [
       "count      5572\n",
       "unique        2\n",
       "top       False\n",
       "freq       5135\n",
       "Name: tiene_telefono, dtype: object"
      ]
     },
     "execution_count": 14,
     "metadata": {},
     "output_type": "execute_result"
    }
   ],
   "source": [
    "df['tiene_telefono'].describe()"
   ]
  },
  {
   "cell_type": "code",
   "execution_count": 15,
   "metadata": {},
   "outputs": [
    {
     "data": {
      "text/html": [
       "<div>\n",
       "<style scoped>\n",
       "    .dataframe tbody tr th:only-of-type {\n",
       "        vertical-align: middle;\n",
       "    }\n",
       "\n",
       "    .dataframe tbody tr th {\n",
       "        vertical-align: top;\n",
       "    }\n",
       "\n",
       "    .dataframe thead tr th {\n",
       "        text-align: left;\n",
       "    }\n",
       "\n",
       "    .dataframe thead tr:last-of-type th {\n",
       "        text-align: right;\n",
       "    }\n",
       "</style>\n",
       "<table border=\"1\" class=\"dataframe\">\n",
       "  <thead>\n",
       "    <tr>\n",
       "      <th></th>\n",
       "      <th colspan=\"8\" halign=\"left\">len_mensajes</th>\n",
       "    </tr>\n",
       "    <tr>\n",
       "      <th></th>\n",
       "      <th>count</th>\n",
       "      <th>mean</th>\n",
       "      <th>std</th>\n",
       "      <th>min</th>\n",
       "      <th>25%</th>\n",
       "      <th>50%</th>\n",
       "      <th>75%</th>\n",
       "      <th>max</th>\n",
       "    </tr>\n",
       "    <tr>\n",
       "      <th>tipo</th>\n",
       "      <th></th>\n",
       "      <th></th>\n",
       "      <th></th>\n",
       "      <th></th>\n",
       "      <th></th>\n",
       "      <th></th>\n",
       "      <th></th>\n",
       "      <th></th>\n",
       "    </tr>\n",
       "  </thead>\n",
       "  <tbody>\n",
       "    <tr>\n",
       "      <th>ham</th>\n",
       "      <td>3.0</td>\n",
       "      <td>99.333333</td>\n",
       "      <td>55.536775</td>\n",
       "      <td>51.0</td>\n",
       "      <td>69.0</td>\n",
       "      <td>87.0</td>\n",
       "      <td>123.5</td>\n",
       "      <td>160.0</td>\n",
       "    </tr>\n",
       "    <tr>\n",
       "      <th>spam</th>\n",
       "      <td>434.0</td>\n",
       "      <td>142.278802</td>\n",
       "      <td>25.690432</td>\n",
       "      <td>33.0</td>\n",
       "      <td>136.0</td>\n",
       "      <td>152.0</td>\n",
       "      <td>158.0</td>\n",
       "      <td>223.0</td>\n",
       "    </tr>\n",
       "  </tbody>\n",
       "</table>\n",
       "</div>"
      ],
      "text/plain": [
       "     len_mensajes                                                         \n",
       "            count        mean        std   min    25%    50%    75%    max\n",
       "tipo                                                                      \n",
       "ham           3.0   99.333333  55.536775  51.0   69.0   87.0  123.5  160.0\n",
       "spam        434.0  142.278802  25.690432  33.0  136.0  152.0  158.0  223.0"
      ]
     },
     "execution_count": 15,
     "metadata": {},
     "output_type": "execute_result"
    }
   ],
   "source": [
    "df[df['tiene_telefono'] == True].groupby('tipo').describe()"
   ]
  },
  {
   "cell_type": "markdown",
   "metadata": {},
   "source": [
    "El ~0,7% de los mensajes que contienen un número de teléfono son reales, la inmensa mayoría restante son spam."
   ]
  },
  {
   "cell_type": "markdown",
   "metadata": {},
   "source": [
    "### 1.2.3 Palabras clave\n",
    "\n",
    "Consiste en identificar las palabras clave presentes típicas presentes en cada tipo de mensaje. De tal forma, al leer un mensaje podemos identificar si contiene palabras asociadas al spam o a mensajes reales. Este paso se hará después de la limpieza de datos, en el apartado 2."
   ]
  },
  {
   "cell_type": "markdown",
   "metadata": {},
   "source": [
    "# 2. Preprocesamiento"
   ]
  },
  {
   "cell_type": "markdown",
   "metadata": {},
   "source": [
    "## 2.1 Limpieza de datos\n",
    "\n",
    "El objetivo de la limpieza de datos es facilitar la clasificación al modelo, reduciendo la dimensionalidad de los datos, descartando informacioń irrelevante y relacionando la existente de forma más evidente."
   ]
  },
  {
   "cell_type": "markdown",
   "metadata": {},
   "source": [
    "### 2.1.1 Signos de puntuación etc."
   ]
  },
  {
   "cell_type": "code",
   "execution_count": 16,
   "metadata": {},
   "outputs": [],
   "source": [
    "def limpiar_texto(x):\n",
    "    \"\"\"\n",
    "    Devuelve el texto en minúsculas, libre de teléfonos, links, signos de puntuación, etc.\n",
    "    \"\"\"\n",
    "    x = x.lower()                                                                                           # A minúsculas\n",
    "    x = re.sub('http[s]?://(?:[a-zA-Z]|[0-9]|[$-_@.&+]|[!*\\(\\),]|(?:%[0-9a-fA-F][0-9a-fA-F]))+', '', x)     # Links\n",
    "    x = re.sub('[%s]' % re.escape(string.punctuation), '', x)                                               # Signos de puntuación, etc.\n",
    "    x = re.sub('\\n', '', x)                                                                                 # Saltos de línea\n",
    "    x = re.sub('\\w*\\d\\w*', '', x)                                                                           # Palabras con números\n",
    "    x = re.sub('(?:\\+\\d{2})?\\d{3,4}\\D?\\d{3}\\D?\\d{3}', '', x)                                                # Teléfonos móviles\n",
    "    x = re.sub('(?:\\+?\\(?\\d{2,3}?\\)?\\D?)?\\d{4}\\D?\\d{4}', '', x)                                             # Teléfonos fijos\n",
    "    x = unidecode.unidecode(x)\n",
    "    \n",
    "\n",
    "    return x.strip()"
   ]
  },
  {
   "cell_type": "code",
   "execution_count": 17,
   "metadata": {},
   "outputs": [],
   "source": [
    "df['mensaje_limpio'] = df['mensaje'].apply(limpiar_texto)"
   ]
  },
  {
   "cell_type": "code",
   "execution_count": 18,
   "metadata": {},
   "outputs": [
    {
     "data": {
      "text/plain": [
       "0       go until jurong point crazy available only in ...\n",
       "1                                 ok lar joking wif u oni\n",
       "2       free entry in  a wkly comp to win fa cup final...\n",
       "3             u dun say so early hor u c already then say\n",
       "4       nah i dont think he goes to usf he lives aroun...\n",
       "                              ...                        \n",
       "5567    this is the  time we have tried  contact u u h...\n",
       "5568                  will u b going to esplanade fr home\n",
       "5569    pity  was in mood for that soany other suggest...\n",
       "5570    the guy did some bitching but i acted like id ...\n",
       "5571                            rofl its true to its name\n",
       "Name: mensaje_limpio, Length: 5572, dtype: object"
      ]
     },
     "execution_count": 18,
     "metadata": {},
     "output_type": "execute_result"
    }
   ],
   "source": [
    "df['mensaje_limpio']"
   ]
  },
  {
   "cell_type": "markdown",
   "metadata": {},
   "source": [
    "Como se puede ver, todavía hay mucho slang, palabras que no aportan información y otras expresiones que habría que limpiar.\n",
    "\n",
    "Ahora queremos quitar las llamadas \"stopwords\", palabras como \"a\" y \"the\", que no aportan singificado extra al mensaje y son por tanto prescindibles."
   ]
  },
  {
   "cell_type": "markdown",
   "metadata": {},
   "source": [
    "### 2.1.2 Stopwords"
   ]
  },
  {
   "cell_type": "code",
   "execution_count": 19,
   "metadata": {},
   "outputs": [],
   "source": [
    "stop_words = stopwords.words('english')\n",
    "# Añadimos palabras extras detectadas manualmente.\n",
    "extra_stop = [\n",
    "        'dont', 'doin', 'rolf', 'u', 'b', 'ure', 'ur', 'im', 'c', 'its'\n",
    "    ]\n",
    "stop_words += extra_stop\n",
    "\n",
    "def elima_stopwords(x):\n",
    "    return ' '.join(palabra for palabra in x.split(' ') if palabra not in stop_words)"
   ]
  },
  {
   "cell_type": "code",
   "execution_count": 20,
   "metadata": {},
   "outputs": [],
   "source": [
    "df['mensaje_limpio'] = df['mensaje_limpio'].apply(elima_stopwords)"
   ]
  },
  {
   "cell_type": "code",
   "execution_count": 21,
   "metadata": {},
   "outputs": [
    {
     "data": {
      "text/plain": [
       "0       go jurong point crazy available bugis n great ...\n",
       "1                                   ok lar joking wif oni\n",
       "2       free entry  wkly comp win fa cup final tkts  m...\n",
       "3                           dun say early hor already say\n",
       "4                  nah think goes usf lives around though\n",
       "                              ...                        \n",
       "5567     time tried  contact PS pound prize  claim eas...\n",
       "5568                              going esplanade fr home\n",
       "5569                         pity  mood soany suggestions\n",
       "5570    guy bitching acted like id interested buying s...\n",
       "5571                                       rofl true name\n",
       "Name: mensaje_limpio, Length: 5572, dtype: object"
      ]
     },
     "execution_count": 21,
     "metadata": {},
     "output_type": "execute_result"
    }
   ],
   "source": [
    "df['mensaje_limpio']"
   ]
  },
  {
   "cell_type": "markdown",
   "metadata": {},
   "source": [
    "### 2.1.3 Stemming\n",
    "\n",
    "Stemming es un método para reducir una palabra a su raíz. Por ejemplo: podemos tener un mensaje con write, writes, o writing. Nos interesa obtener la raíz de la palabra para quedarnos con el significado solamente. De los algoritmos de nltk, Snowball Stemmer ha demostrado ofrecer mejores resultados."
   ]
  },
  {
   "cell_type": "code",
   "execution_count": 22,
   "metadata": {},
   "outputs": [],
   "source": [
    "snowball = SnowballStemmer(language='english')\n",
    "\n",
    "def stemming(x):\n",
    "    return ' '.join(snowball.stem(palabra) for palabra in x.split(' '))"
   ]
  },
  {
   "cell_type": "code",
   "execution_count": 23,
   "metadata": {},
   "outputs": [],
   "source": [
    "df['mensaje_limpio'] = df['mensaje_limpio'].apply(stemming)"
   ]
  },
  {
   "cell_type": "code",
   "execution_count": 24,
   "metadata": {},
   "outputs": [
    {
     "data": {
      "text/plain": [
       "0       go jurong point crazi avail bugi n great world...\n",
       "1                                     ok lar joke wif oni\n",
       "2       free entri  wkli comp win fa cup final tkts  m...\n",
       "3                           dun say earli hor alreadi say\n",
       "4                    nah think goe usf live around though\n",
       "                              ...                        \n",
       "5567     time tri  contact ps pound prize  claim easi ...\n",
       "5568                                  go esplanad fr home\n",
       "5569                             piti  mood soani suggest\n",
       "5570    guy bitch act like id interest buy someth els ...\n",
       "5571                                       rofl true name\n",
       "Name: mensaje_limpio, Length: 5572, dtype: object"
      ]
     },
     "execution_count": 24,
     "metadata": {},
     "output_type": "execute_result"
    }
   ],
   "source": [
    "df['mensaje_limpio']"
   ]
  },
  {
   "cell_type": "markdown",
   "metadata": {},
   "source": [
    "## 2.2 Palabra clave\n",
    "\n",
    "Una vez tenemos los datos limpios, analizamos las palabras más frecuentes en los mensajes verídicos y en los de spam."
   ]
  },
  {
   "cell_type": "code",
   "execution_count": 25,
   "metadata": {},
   "outputs": [],
   "source": [
    "# Primero los mensajes normales.\n",
    "\n",
    "mensajes_ham_en_lista = df[df['tipo']=='ham']['mensaje_limpio'].apply(\n",
    "    lambda x: [palabra for palabra in x.split()]        # Dividimos cada mensaje en listas de palabras.\n",
    "    )\n",
    "\n",
    "palabras_clave_ham = Counter()\n",
    "\n",
    "\n",
    "for mensaje in mensajes_ham_en_lista:\n",
    "    palabras_clave_ham.update(mensaje)\n"
   ]
  },
  {
   "cell_type": "code",
   "execution_count": 26,
   "metadata": {},
   "outputs": [
    {
     "name": "stdout",
     "output_type": "stream",
     "text": [
      "[('go', 417), ('get', 360), ('come', 295), ('call', 289), ('ltgt', 276), ('ok', 273), ('like', 244), ('know', 244), ('love', 241), ('ill', 240), ('got', 232), ('good', 225), ('time', 219), ('day', 215), ('want', 213), ('need', 176), ('one', 171), ('home', 160), ('lor', 160), ('see', 153), ('sorri', 153), ('think', 152), ('still', 147), ('take', 141), ('say', 138), ('tell', 138), ('n', 137), ('send', 135), ('make', 134), ('later', 134), ('today', 133), ('work', 132), ('da', 131), ('r', 131), ('back', 129), ('well', 127), ('ask', 126), ('hope', 120), ('cant', 120), ('happi', 119), ('miss', 118), ('meet', 117), ('hi', 117), ('oh', 112), ('much', 112), ('night', 112), ('thing', 111), ('wat', 108), ('give', 107), ('hey', 106)]\n"
     ]
    }
   ],
   "source": [
    "print(palabras_clave_ham.most_common(50))"
   ]
  },
  {
   "cell_type": "code",
   "execution_count": 27,
   "metadata": {},
   "outputs": [],
   "source": [
    "# Mensaje de spam\n",
    "\n",
    "mensajes_spam_en_lista = df[df['tipo']=='spam']['mensaje_limpio'].apply(\n",
    "    lambda x: [palabra for palabra in x.split()]        # Dividimos cada mensaje en listas de palabras.\n",
    "    )\n",
    "\n",
    "palabras_clave_spam = Counter()\n",
    "\n",
    "\n",
    "for mensaje in mensajes_spam_en_lista:\n",
    "    palabras_clave_spam.update(mensaje)\n"
   ]
  },
  {
   "cell_type": "code",
   "execution_count": 28,
   "metadata": {},
   "outputs": [
    {
     "name": "stdout",
     "output_type": "stream",
     "text": [
      "[('call', 366), ('ps', 296), ('free', 216), ('txt', 150), ('text', 138), ('mobil', 135), ('claim', 115), ('stop', 115), ('repli', 109), ('prize', 94), ('get', 87), ('week', 86), ('tone', 73), ('servic', 72), ('send', 70), ('new', 69), ('nokia', 68), ('award', 66), ('urgent', 63), ('cash', 62), ('win', 61), ('contact', 61), ('phone', 57), ('pleas', 55), ('custom', 51), ('guarante', 51), ('collect', 50), ('min', 50), ('per', 46), ('messag', 45), ('chat', 44), ('draw', 39), ('number', 39), ('tri', 38), ('offer', 38), ('receiv', 37), ('latest', 37), ('line', 37), ('today', 36), ('voucher', 36), ('show', 35), ('go', 35), ('landlin', 34), ('camera', 33), ('box', 33), ('everi', 33), ('po', 32), ('holiday', 32), ('want', 32), ('select', 31)]\n"
     ]
    }
   ],
   "source": [
    "print(palabras_clave_spam.most_common(50))"
   ]
  },
  {
   "cell_type": "markdown",
   "metadata": {},
   "source": [
    "Hay una gran diferencia entre las palabras de spam y ham más comunes. Las de spam tratan de llamar la atención, pidiendo que llames, ofreciendo premios gratis (free, claim, reply, prize, cash, win, award), y pidiendo urgencia (urgent, today). Vamos a crear dos columnas extra: ham_score y spam_score. Esta puntuación se basará en el número de palabras comunes que contenga cada mensaje."
   ]
  },
  {
   "cell_type": "code",
   "execution_count": 29,
   "metadata": {},
   "outputs": [
    {
     "data": {
      "text/plain": [
       "True"
      ]
     },
     "execution_count": 29,
     "metadata": {},
     "output_type": "execute_result"
    }
   ],
   "source": [
    "'call' in set(w for w,_ in palabras_clave_spam.most_common(50))"
   ]
  },
  {
   "cell_type": "code",
   "execution_count": 30,
   "metadata": {},
   "outputs": [],
   "source": [
    "def count_words(x, counter_palabras, numero_comunes=50):\n",
    "    lista_palabras = set(w for w,_ in counter_palabras.most_common(numero_comunes))\n",
    "    count = 0\n",
    "    for palabra in x.split():\n",
    "        if palabra in lista_palabras:\n",
    "            count+=1\n",
    "    return count/numero_comunes"
   ]
  },
  {
   "cell_type": "code",
   "execution_count": 31,
   "metadata": {},
   "outputs": [],
   "source": [
    "df['ham_score'] = df['mensaje_limpio'].apply(count_words, counter_palabras=palabras_clave_ham)\n",
    "\n",
    "df['spam_score'] = df['mensaje_limpio'].apply(count_words, counter_palabras=palabras_clave_spam)"
   ]
  },
  {
   "cell_type": "code",
   "execution_count": 32,
   "metadata": {},
   "outputs": [
    {
     "data": {
      "text/html": [
       "<div>\n",
       "<style scoped>\n",
       "    .dataframe tbody tr th:only-of-type {\n",
       "        vertical-align: middle;\n",
       "    }\n",
       "\n",
       "    .dataframe tbody tr th {\n",
       "        vertical-align: top;\n",
       "    }\n",
       "\n",
       "    .dataframe thead th {\n",
       "        text-align: right;\n",
       "    }\n",
       "</style>\n",
       "<table border=\"1\" class=\"dataframe\">\n",
       "  <thead>\n",
       "    <tr style=\"text-align: right;\">\n",
       "      <th></th>\n",
       "      <th>tipo</th>\n",
       "      <th>mensaje</th>\n",
       "      <th>len_mensajes</th>\n",
       "      <th>tiene_link</th>\n",
       "      <th>tiene_telefono</th>\n",
       "      <th>mensaje_limpio</th>\n",
       "      <th>ham_score</th>\n",
       "      <th>spam_score</th>\n",
       "    </tr>\n",
       "  </thead>\n",
       "  <tbody>\n",
       "    <tr>\n",
       "      <th>3560</th>\n",
       "      <td>spam</td>\n",
       "      <td>URGENT! We are trying to contact U Todays draw...</td>\n",
       "      <td>156</td>\n",
       "      <td>False</td>\n",
       "      <td>True</td>\n",
       "      <td>urgent tri contact today draw show ps prize gu...</td>\n",
       "      <td>0.04</td>\n",
       "      <td>0.26</td>\n",
       "    </tr>\n",
       "    <tr>\n",
       "      <th>3468</th>\n",
       "      <td>spam</td>\n",
       "      <td>URGENT! We are trying to contact U. Todays dra...</td>\n",
       "      <td>156</td>\n",
       "      <td>False</td>\n",
       "      <td>True</td>\n",
       "      <td>urgent tri contact today draw show ps prize gu...</td>\n",
       "      <td>0.04</td>\n",
       "      <td>0.24</td>\n",
       "    </tr>\n",
       "    <tr>\n",
       "      <th>2374</th>\n",
       "      <td>spam</td>\n",
       "      <td>XMAS Prize draws! We are trying to contact U. ...</td>\n",
       "      <td>157</td>\n",
       "      <td>False</td>\n",
       "      <td>True</td>\n",
       "      <td>xmas prize draw tri contact today draw show ps...</td>\n",
       "      <td>0.04</td>\n",
       "      <td>0.24</td>\n",
       "    </tr>\n",
       "    <tr>\n",
       "      <th>4036</th>\n",
       "      <td>spam</td>\n",
       "      <td>YOU ARE CHOSEN TO RECEIVE A £350 AWARD! Pls ca...</td>\n",
       "      <td>158</td>\n",
       "      <td>False</td>\n",
       "      <td>True</td>\n",
       "      <td>chosen receiv ps award pls call claim number  ...</td>\n",
       "      <td>0.02</td>\n",
       "      <td>0.24</td>\n",
       "    </tr>\n",
       "    <tr>\n",
       "      <th>4967</th>\n",
       "      <td>spam</td>\n",
       "      <td>URGENT! We are trying to contact U. Todays dra...</td>\n",
       "      <td>159</td>\n",
       "      <td>False</td>\n",
       "      <td>True</td>\n",
       "      <td>urgent tri contact today draw show ps prize gu...</td>\n",
       "      <td>0.04</td>\n",
       "      <td>0.24</td>\n",
       "    </tr>\n",
       "    <tr>\n",
       "      <th>3217</th>\n",
       "      <td>spam</td>\n",
       "      <td>URGENT! We are trying to contact U. Todays dra...</td>\n",
       "      <td>158</td>\n",
       "      <td>False</td>\n",
       "      <td>True</td>\n",
       "      <td>urgent tri contact today draw show ps prize gu...</td>\n",
       "      <td>0.04</td>\n",
       "      <td>0.24</td>\n",
       "    </tr>\n",
       "    <tr>\n",
       "      <th>1687</th>\n",
       "      <td>spam</td>\n",
       "      <td>todays vodafone numbers ending with 0089(my la...</td>\n",
       "      <td>172</td>\n",
       "      <td>False</td>\n",
       "      <td>True</td>\n",
       "      <td>today vodafon number end  last four digit sele...</td>\n",
       "      <td>0.04</td>\n",
       "      <td>0.24</td>\n",
       "    </tr>\n",
       "    <tr>\n",
       "      <th>962</th>\n",
       "      <td>spam</td>\n",
       "      <td>URGENT! We are trying to contact U. Todays dra...</td>\n",
       "      <td>156</td>\n",
       "      <td>False</td>\n",
       "      <td>True</td>\n",
       "      <td>urgent tri contact today draw show ps prize gu...</td>\n",
       "      <td>0.04</td>\n",
       "      <td>0.24</td>\n",
       "    </tr>\n",
       "    <tr>\n",
       "      <th>1673</th>\n",
       "      <td>spam</td>\n",
       "      <td>URGENT! We are trying to contact U. Todays dra...</td>\n",
       "      <td>157</td>\n",
       "      <td>False</td>\n",
       "      <td>True</td>\n",
       "      <td>urgent tri contact today draw show ps prize gu...</td>\n",
       "      <td>0.04</td>\n",
       "      <td>0.24</td>\n",
       "    </tr>\n",
       "    <tr>\n",
       "      <th>1072</th>\n",
       "      <td>spam</td>\n",
       "      <td>URGENT! We are trying to contact U. Todays dra...</td>\n",
       "      <td>156</td>\n",
       "      <td>False</td>\n",
       "      <td>True</td>\n",
       "      <td>urgent tri contact today draw show ps prize gu...</td>\n",
       "      <td>0.04</td>\n",
       "      <td>0.24</td>\n",
       "    </tr>\n",
       "  </tbody>\n",
       "</table>\n",
       "</div>"
      ],
      "text/plain": [
       "      tipo                                            mensaje  len_mensajes  \\\n",
       "3560  spam  URGENT! We are trying to contact U Todays draw...           156   \n",
       "3468  spam  URGENT! We are trying to contact U. Todays dra...           156   \n",
       "2374  spam  XMAS Prize draws! We are trying to contact U. ...           157   \n",
       "4036  spam  YOU ARE CHOSEN TO RECEIVE A £350 AWARD! Pls ca...           158   \n",
       "4967  spam  URGENT! We are trying to contact U. Todays dra...           159   \n",
       "3217  spam  URGENT! We are trying to contact U. Todays dra...           158   \n",
       "1687  spam  todays vodafone numbers ending with 0089(my la...           172   \n",
       "962   spam  URGENT! We are trying to contact U. Todays dra...           156   \n",
       "1673  spam  URGENT! We are trying to contact U. Todays dra...           157   \n",
       "1072  spam  URGENT! We are trying to contact U. Todays dra...           156   \n",
       "\n",
       "      tiene_link  tiene_telefono  \\\n",
       "3560       False            True   \n",
       "3468       False            True   \n",
       "2374       False            True   \n",
       "4036       False            True   \n",
       "4967       False            True   \n",
       "3217       False            True   \n",
       "1687       False            True   \n",
       "962        False            True   \n",
       "1673       False            True   \n",
       "1072       False            True   \n",
       "\n",
       "                                         mensaje_limpio  ham_score  spam_score  \n",
       "3560  urgent tri contact today draw show ps prize gu...       0.04        0.26  \n",
       "3468  urgent tri contact today draw show ps prize gu...       0.04        0.24  \n",
       "2374  xmas prize draw tri contact today draw show ps...       0.04        0.24  \n",
       "4036  chosen receiv ps award pls call claim number  ...       0.02        0.24  \n",
       "4967  urgent tri contact today draw show ps prize gu...       0.04        0.24  \n",
       "3217  urgent tri contact today draw show ps prize gu...       0.04        0.24  \n",
       "1687  today vodafon number end  last four digit sele...       0.04        0.24  \n",
       "962   urgent tri contact today draw show ps prize gu...       0.04        0.24  \n",
       "1673  urgent tri contact today draw show ps prize gu...       0.04        0.24  \n",
       "1072  urgent tri contact today draw show ps prize gu...       0.04        0.24  "
      ]
     },
     "execution_count": 32,
     "metadata": {},
     "output_type": "execute_result"
    }
   ],
   "source": [
    "df.sort_values(by='spam_score', ascending=False).head(10)"
   ]
  },
  {
   "cell_type": "code",
   "execution_count": 33,
   "metadata": {},
   "outputs": [
    {
     "data": {
      "text/html": [
       "<div>\n",
       "<style scoped>\n",
       "    .dataframe tbody tr th:only-of-type {\n",
       "        vertical-align: middle;\n",
       "    }\n",
       "\n",
       "    .dataframe tbody tr th {\n",
       "        vertical-align: top;\n",
       "    }\n",
       "\n",
       "    .dataframe thead th {\n",
       "        text-align: right;\n",
       "    }\n",
       "</style>\n",
       "<table border=\"1\" class=\"dataframe\">\n",
       "  <thead>\n",
       "    <tr style=\"text-align: right;\">\n",
       "      <th></th>\n",
       "      <th>tipo</th>\n",
       "      <th>mensaje</th>\n",
       "      <th>len_mensajes</th>\n",
       "      <th>tiene_link</th>\n",
       "      <th>tiene_telefono</th>\n",
       "      <th>mensaje_limpio</th>\n",
       "      <th>ham_score</th>\n",
       "      <th>spam_score</th>\n",
       "    </tr>\n",
       "  </thead>\n",
       "  <tbody>\n",
       "    <tr>\n",
       "      <th>3017</th>\n",
       "      <td>ham</td>\n",
       "      <td>&amp;lt;#&amp;gt;  is fast approaching. So, Wish u a v...</td>\n",
       "      <td>461</td>\n",
       "      <td>False</td>\n",
       "      <td>False</td>\n",
       "      <td>ltgt  fast approach wish happi new year happi ...</td>\n",
       "      <td>0.50</td>\n",
       "      <td>0.02</td>\n",
       "    </tr>\n",
       "    <tr>\n",
       "      <th>1579</th>\n",
       "      <td>ham</td>\n",
       "      <td>How to Make a girl Happy? It's not at all diff...</td>\n",
       "      <td>611</td>\n",
       "      <td>False</td>\n",
       "      <td>False</td>\n",
       "      <td>make girl happi difficult make girl happi need...</td>\n",
       "      <td>0.50</td>\n",
       "      <td>0.00</td>\n",
       "    </tr>\n",
       "    <tr>\n",
       "      <th>1085</th>\n",
       "      <td>ham</td>\n",
       "      <td>For me the love should start with attraction.i...</td>\n",
       "      <td>910</td>\n",
       "      <td>False</td>\n",
       "      <td>False</td>\n",
       "      <td>love start attractioni feel need everi time ar...</td>\n",
       "      <td>0.38</td>\n",
       "      <td>0.10</td>\n",
       "    </tr>\n",
       "    <tr>\n",
       "      <th>2090</th>\n",
       "      <td>ham</td>\n",
       "      <td>No i'm not. I can't give you everything you wa...</td>\n",
       "      <td>363</td>\n",
       "      <td>False</td>\n",
       "      <td>False</td>\n",
       "      <td>cant give everyth want need actual could bette...</td>\n",
       "      <td>0.32</td>\n",
       "      <td>0.08</td>\n",
       "    </tr>\n",
       "    <tr>\n",
       "      <th>1863</th>\n",
       "      <td>ham</td>\n",
       "      <td>The last thing i ever wanted to do was hurt yo...</td>\n",
       "      <td>790</td>\n",
       "      <td>False</td>\n",
       "      <td>False</td>\n",
       "      <td>last thing ever want hurt didnt think would yo...</td>\n",
       "      <td>0.30</td>\n",
       "      <td>0.10</td>\n",
       "    </tr>\n",
       "    <tr>\n",
       "      <th>2434</th>\n",
       "      <td>ham</td>\n",
       "      <td>Indians r poor but India is not a poor country...</td>\n",
       "      <td>629</td>\n",
       "      <td>False</td>\n",
       "      <td>False</td>\n",
       "      <td>indian r poor india poor countri say one swiss...</td>\n",
       "      <td>0.28</td>\n",
       "      <td>0.06</td>\n",
       "    </tr>\n",
       "    <tr>\n",
       "      <th>3351</th>\n",
       "      <td>ham</td>\n",
       "      <td>Sorry i cant take your call right now. It so h...</td>\n",
       "      <td>368</td>\n",
       "      <td>False</td>\n",
       "      <td>False</td>\n",
       "      <td>sorri cant take call right happen r  wat want ...</td>\n",
       "      <td>0.26</td>\n",
       "      <td>0.06</td>\n",
       "    </tr>\n",
       "    <tr>\n",
       "      <th>882</th>\n",
       "      <td>ham</td>\n",
       "      <td>see, i knew giving you a break a few times wou...</td>\n",
       "      <td>276</td>\n",
       "      <td>False</td>\n",
       "      <td>False</td>\n",
       "      <td>see knew give break time woul lead alway want ...</td>\n",
       "      <td>0.24</td>\n",
       "      <td>0.04</td>\n",
       "    </tr>\n",
       "    <tr>\n",
       "      <th>2946</th>\n",
       "      <td>ham</td>\n",
       "      <td>Hey babe, sorry i didn't get sooner. Gary can ...</td>\n",
       "      <td>327</td>\n",
       "      <td>False</td>\n",
       "      <td>False</td>\n",
       "      <td>hey babe sorri didnt get sooner gari come fix ...</td>\n",
       "      <td>0.24</td>\n",
       "      <td>0.06</td>\n",
       "    </tr>\n",
       "    <tr>\n",
       "      <th>4081</th>\n",
       "      <td>ham</td>\n",
       "      <td>Sir, good morning. Hope you had a good weekend...</td>\n",
       "      <td>276</td>\n",
       "      <td>False</td>\n",
       "      <td>False</td>\n",
       "      <td>sir good morn hope good weekend call let know ...</td>\n",
       "      <td>0.22</td>\n",
       "      <td>0.02</td>\n",
       "    </tr>\n",
       "  </tbody>\n",
       "</table>\n",
       "</div>"
      ],
      "text/plain": [
       "     tipo                                            mensaje  len_mensajes  \\\n",
       "3017  ham  &lt;#&gt;  is fast approaching. So, Wish u a v...           461   \n",
       "1579  ham  How to Make a girl Happy? It's not at all diff...           611   \n",
       "1085  ham  For me the love should start with attraction.i...           910   \n",
       "2090  ham  No i'm not. I can't give you everything you wa...           363   \n",
       "1863  ham  The last thing i ever wanted to do was hurt yo...           790   \n",
       "2434  ham  Indians r poor but India is not a poor country...           629   \n",
       "3351  ham  Sorry i cant take your call right now. It so h...           368   \n",
       "882   ham  see, i knew giving you a break a few times wou...           276   \n",
       "2946  ham  Hey babe, sorry i didn't get sooner. Gary can ...           327   \n",
       "4081  ham  Sir, good morning. Hope you had a good weekend...           276   \n",
       "\n",
       "      tiene_link  tiene_telefono  \\\n",
       "3017       False           False   \n",
       "1579       False           False   \n",
       "1085       False           False   \n",
       "2090       False           False   \n",
       "1863       False           False   \n",
       "2434       False           False   \n",
       "3351       False           False   \n",
       "882        False           False   \n",
       "2946       False           False   \n",
       "4081       False           False   \n",
       "\n",
       "                                         mensaje_limpio  ham_score  spam_score  \n",
       "3017  ltgt  fast approach wish happi new year happi ...       0.50        0.02  \n",
       "1579  make girl happi difficult make girl happi need...       0.50        0.00  \n",
       "1085  love start attractioni feel need everi time ar...       0.38        0.10  \n",
       "2090  cant give everyth want need actual could bette...       0.32        0.08  \n",
       "1863  last thing ever want hurt didnt think would yo...       0.30        0.10  \n",
       "2434  indian r poor india poor countri say one swiss...       0.28        0.06  \n",
       "3351  sorri cant take call right happen r  wat want ...       0.26        0.06  \n",
       "882   see knew give break time woul lead alway want ...       0.24        0.04  \n",
       "2946  hey babe sorri didnt get sooner gari come fix ...       0.24        0.06  \n",
       "4081  sir good morn hope good weekend call let know ...       0.22        0.02  "
      ]
     },
     "execution_count": 33,
     "metadata": {},
     "output_type": "execute_result"
    }
   ],
   "source": [
    "df.sort_values(by='ham_score', ascending=False).head(10)"
   ]
  },
  {
   "cell_type": "markdown",
   "metadata": {},
   "source": [
    "Podemos observar que entre los mensajes con mayor ham_score hay mensajes de spam. Este no es el caso a la inversa, por lo que nos quedaremos con la spam_score, que demuestra ser la métrica más precisa."
   ]
  },
  {
   "cell_type": "code",
   "execution_count": 34,
   "metadata": {},
   "outputs": [],
   "source": [
    "df.drop('ham_score', axis=1, inplace=True)"
   ]
  },
  {
   "cell_type": "markdown",
   "metadata": {},
   "source": [
    "Quitamos True y False y los convertimos a 1 y 0."
   ]
  },
  {
   "cell_type": "code",
   "execution_count": 35,
   "metadata": {},
   "outputs": [],
   "source": [
    "df['tipo_num'] = df['tipo'].map({'ham':0, 'spam':1})\n",
    "df['tiene_link'] = df['tiene_link'].map({False:0, True:1})\n",
    "df['tiene_telefono'] = df['tiene_telefono'].map({False:0, True:1})"
   ]
  },
  {
   "cell_type": "code",
   "execution_count": 36,
   "metadata": {},
   "outputs": [],
   "source": [
    "# Guardamos el dataset antes de la vectorización.\n",
    "df_json = df.to_json(orient=\"records\")\n",
    "parsed = json.loads(df_json)\n",
    "\n",
    "with open(\"dataset/spam_agregado.json\", \"w\", encoding=\"utf-8\") as f:\n",
    "    json.dump(parsed, f, indent=4)"
   ]
  },
  {
   "cell_type": "markdown",
   "metadata": {},
   "source": [
    "## 2.3 Vectorización\n",
    "\n",
    "El objetivo de este apartado es probar distintos tipos de algoritmos de vectorización de os mensajes, para posteriormente comprobar la eficacia de los mismos a la hora de clasificar y detectar los mensajes de spam. Para ello, vamos a estudiar 2 algoritmos que han obtenido buenos resultados en la literatura científica. Concretamente utilizaremos: TF-IDF y Word2Vec. [Fuente](https://neptune.ai/blog/vectorization-techniques-in-nlp-guide)"
   ]
  },
  {
   "cell_type": "markdown",
   "metadata": {},
   "source": [
    "Antes de nada, vamos a terminar de limpiar el dataset."
   ]
  },
  {
   "cell_type": "code",
   "execution_count": 37,
   "metadata": {},
   "outputs": [
    {
     "data": {
      "text/plain": [
       "Index(['tipo', 'mensaje', 'len_mensajes', 'tiene_link', 'tiene_telefono',\n",
       "       'mensaje_limpio', 'spam_score', 'tipo_num'],\n",
       "      dtype='object')"
      ]
     },
     "execution_count": 37,
     "metadata": {},
     "output_type": "execute_result"
    }
   ],
   "source": [
    "df.columns"
   ]
  },
  {
   "cell_type": "code",
   "execution_count": 38,
   "metadata": {},
   "outputs": [],
   "source": [
    "# Quitamos las columnas que no vamos a usar.\n",
    "df.drop(\n",
    "    ['tipo', 'mensaje'],\n",
    "    axis=1, inplace=True)"
   ]
  },
  {
   "cell_type": "code",
   "execution_count": 39,
   "metadata": {},
   "outputs": [
    {
     "data": {
      "text/html": [
       "<div>\n",
       "<style scoped>\n",
       "    .dataframe tbody tr th:only-of-type {\n",
       "        vertical-align: middle;\n",
       "    }\n",
       "\n",
       "    .dataframe tbody tr th {\n",
       "        vertical-align: top;\n",
       "    }\n",
       "\n",
       "    .dataframe thead th {\n",
       "        text-align: right;\n",
       "    }\n",
       "</style>\n",
       "<table border=\"1\" class=\"dataframe\">\n",
       "  <thead>\n",
       "    <tr style=\"text-align: right;\">\n",
       "      <th></th>\n",
       "      <th>len_mensajes</th>\n",
       "      <th>tiene_link</th>\n",
       "      <th>tiene_telefono</th>\n",
       "      <th>mensaje_limpio</th>\n",
       "      <th>spam_score</th>\n",
       "      <th>tipo_num</th>\n",
       "    </tr>\n",
       "  </thead>\n",
       "  <tbody>\n",
       "    <tr>\n",
       "      <th>0</th>\n",
       "      <td>111</td>\n",
       "      <td>0</td>\n",
       "      <td>0</td>\n",
       "      <td>go jurong point crazi avail bugi n great world...</td>\n",
       "      <td>0.02</td>\n",
       "      <td>0</td>\n",
       "    </tr>\n",
       "    <tr>\n",
       "      <th>1</th>\n",
       "      <td>29</td>\n",
       "      <td>0</td>\n",
       "      <td>0</td>\n",
       "      <td>ok lar joke wif oni</td>\n",
       "      <td>0.00</td>\n",
       "      <td>0</td>\n",
       "    </tr>\n",
       "  </tbody>\n",
       "</table>\n",
       "</div>"
      ],
      "text/plain": [
       "   len_mensajes  tiene_link  tiene_telefono  \\\n",
       "0           111           0               0   \n",
       "1            29           0               0   \n",
       "\n",
       "                                      mensaje_limpio  spam_score  tipo_num  \n",
       "0  go jurong point crazi avail bugi n great world...        0.02         0  \n",
       "1                                ok lar joke wif oni        0.00         0  "
      ]
     },
     "execution_count": 39,
     "metadata": {},
     "output_type": "execute_result"
    }
   ],
   "source": [
    "df.head(2)"
   ]
  },
  {
   "cell_type": "markdown",
   "metadata": {},
   "source": [
    "Tenemos que normalizar la longitud del mensaje y la spam_score."
   ]
  },
  {
   "cell_type": "code",
   "execution_count": 40,
   "metadata": {},
   "outputs": [],
   "source": [
    "scaler = MinMaxScaler(feature_range=(0,1))\n",
    "arr = np.array(df['len_mensajes']).reshape(-1,1)\n",
    "scaler.fit(arr)\n",
    "df['len_mensajes'] = scaler.transform(arr)"
   ]
  },
  {
   "cell_type": "code",
   "execution_count": 41,
   "metadata": {},
   "outputs": [],
   "source": [
    "scaler = MinMaxScaler(feature_range=(0,1))\n",
    "arr = np.array(df['spam_score']).reshape(-1,1)\n",
    "scaler.fit(arr)\n",
    "df['spam_score'] = scaler.transform(arr)"
   ]
  },
  {
   "cell_type": "code",
   "execution_count": 42,
   "metadata": {},
   "outputs": [
    {
     "data": {
      "text/html": [
       "<div>\n",
       "<style scoped>\n",
       "    .dataframe tbody tr th:only-of-type {\n",
       "        vertical-align: middle;\n",
       "    }\n",
       "\n",
       "    .dataframe tbody tr th {\n",
       "        vertical-align: top;\n",
       "    }\n",
       "\n",
       "    .dataframe thead th {\n",
       "        text-align: right;\n",
       "    }\n",
       "</style>\n",
       "<table border=\"1\" class=\"dataframe\">\n",
       "  <thead>\n",
       "    <tr style=\"text-align: right;\">\n",
       "      <th></th>\n",
       "      <th>len_mensajes</th>\n",
       "      <th>tiene_link</th>\n",
       "      <th>tiene_telefono</th>\n",
       "      <th>mensaje_limpio</th>\n",
       "      <th>spam_score</th>\n",
       "      <th>tipo_num</th>\n",
       "    </tr>\n",
       "  </thead>\n",
       "  <tbody>\n",
       "    <tr>\n",
       "      <th>0</th>\n",
       "      <td>0.120044</td>\n",
       "      <td>0</td>\n",
       "      <td>0</td>\n",
       "      <td>go jurong point crazi avail bugi n great world...</td>\n",
       "      <td>0.076923</td>\n",
       "      <td>0</td>\n",
       "    </tr>\n",
       "    <tr>\n",
       "      <th>1</th>\n",
       "      <td>0.029736</td>\n",
       "      <td>0</td>\n",
       "      <td>0</td>\n",
       "      <td>ok lar joke wif oni</td>\n",
       "      <td>0.000000</td>\n",
       "      <td>0</td>\n",
       "    </tr>\n",
       "  </tbody>\n",
       "</table>\n",
       "</div>"
      ],
      "text/plain": [
       "   len_mensajes  tiene_link  tiene_telefono  \\\n",
       "0      0.120044           0               0   \n",
       "1      0.029736           0               0   \n",
       "\n",
       "                                      mensaje_limpio  spam_score  tipo_num  \n",
       "0  go jurong point crazi avail bugi n great world...    0.076923         0  \n",
       "1                                ok lar joke wif oni    0.000000         0  "
      ]
     },
     "execution_count": 42,
     "metadata": {},
     "output_type": "execute_result"
    }
   ],
   "source": [
    "df.head(2)"
   ]
  },
  {
   "cell_type": "markdown",
   "metadata": {},
   "source": [
    "Una vez tenemos un dataset limpio, creamos un dataset de entrenamiento y otro de test."
   ]
  },
  {
   "cell_type": "code",
   "execution_count": 43,
   "metadata": {},
   "outputs": [
    {
     "name": "stdout",
     "output_type": "stream",
     "text": [
      "(5572, 5) (5572,)\n"
     ]
    }
   ],
   "source": [
    "# Separamos el dataset en x e y. Y conteniendo las etiquetas que indican si el mensaje es spam o no, y X el resto de la información.\n",
    "y = df['tipo_num']\n",
    "x = df.drop('tipo_num', axis=1)\n",
    "\n",
    "print(x.shape,y.shape)"
   ]
  },
  {
   "cell_type": "code",
   "execution_count": 44,
   "metadata": {},
   "outputs": [
    {
     "name": "stdout",
     "output_type": "stream",
     "text": [
      "(4179, 5) (4179,)\n",
      "(1393, 5) (1393,)\n"
     ]
    }
   ],
   "source": [
    "# Ahora los dividimos en dataset de entrenamiento y de test.\n",
    "x_train, x_test, y_train, y_test = train_test_split(x, y)\n",
    "\n",
    "print(x_train.shape, y_train.shape)\n",
    "print(x_test.shape, y_test.shape)"
   ]
  },
  {
   "cell_type": "code",
   "execution_count": 45,
   "metadata": {},
   "outputs": [],
   "source": [
    "# Guardamos x_test para posteriormente poder leer los mensajes de spam.\n",
    "path = 'dataset/test'\n",
    "\n",
    "if not os.path.exists(path):\n",
    "    os.makedirs(path)\n",
    "\n",
    "\n",
    "x_test.to_pickle(os.path.join(path,\"x_test\"))\n"
   ]
  },
  {
   "cell_type": "markdown",
   "metadata": {},
   "source": [
    "### 2.3.1 TF-IDF"
   ]
  },
  {
   "cell_type": "code",
   "execution_count": 46,
   "metadata": {},
   "outputs": [],
   "source": [
    "# Vectorizamos los mensajes.\n",
    "vectorizer = TfidfVectorizer()\n",
    "\n",
    "vectorizer = vectorizer.fit(x_train['mensaje_limpio'])\n",
    "\n",
    "x_train_tfidf =  vectorizer.transform(x_train['mensaje_limpio'])\n",
    "\n",
    "x_test_tfidf = vectorizer.transform(x_test['mensaje_limpio'])"
   ]
  },
  {
   "cell_type": "code",
   "execution_count": 47,
   "metadata": {},
   "outputs": [
    {
     "data": {
      "text/plain": [
       "['dataset/vectorizado\\\\vocabulario_vectorizador']"
      ]
     },
     "execution_count": 47,
     "metadata": {},
     "output_type": "execute_result"
    }
   ],
   "source": [
    "path = 'dataset/vectorizado'\n",
    "\n",
    "if not os.path.exists(path):\n",
    "    os.makedirs(path)\n",
    "\n",
    "# Guardamos las sparse matrix.\n",
    "sparse.save_npz(os.path.join(path, \"tfidf_train.npz\"), x_train_tfidf)\n",
    "\n",
    "sparse.save_npz(os.path.join(path, \"tfidf_test.npz\"), x_test_tfidf)\n",
    "\n",
    "\n",
    "#your_matrix_back = sparse.load_npz(\"yourmatrix.npz\")\n",
    "\n",
    "\n",
    "# Guardamos también el TfidfVectorizer\n",
    "joblib.dump(vectorizer.vocabulary_,os.path.join(path, \"vocabulario_vectorizador\"))"
   ]
  },
  {
   "cell_type": "code",
   "execution_count": 48,
   "metadata": {},
   "outputs": [],
   "source": [
    "path = 'dataset/labels'\n",
    "\n",
    "if not os.path.exists(path):\n",
    "    os.makedirs(path)\n",
    "\n",
    "# Guardamos las etiquetas (Y).\n",
    "\n",
    "y_train.to_pickle(os.path.join(path,\"y_train\"))\n",
    "\n",
    "y_test.to_pickle(os.path.join(path,\"y_test\"))\n"
   ]
  }
 ],
 "metadata": {
  "interpreter": {
   "hash": "916dbcbb3f70747c44a77c7bcd40155683ae19c65e1c03b4aa3499c5328201f1"
  },
  "kernelspec": {
   "display_name": "Python 3.9.7 64-bit",
   "language": "python",
   "name": "python3"
  },
  "language_info": {
   "codemirror_mode": {
    "name": "ipython",
    "version": 3
   },
   "file_extension": ".py",
   "mimetype": "text/x-python",
   "name": "python",
   "nbconvert_exporter": "python",
   "pygments_lexer": "ipython3",
   "version": "3.8.5"
  },
  "orig_nbformat": 4
 },
 "nbformat": 4,
 "nbformat_minor": 2
}
